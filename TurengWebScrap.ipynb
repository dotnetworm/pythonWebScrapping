{
 "cells": [
  {
   "cell_type": "markdown",
   "metadata": {},
   "source": [
    "# Tureng Word Scrapping"
   ]
  },
  {
   "cell_type": "markdown",
   "metadata": {},
   "source": [
    "This script uses requests and bs4 library for scrapping created webpage from generated url with given word."
   ]
  },
  {
   "cell_type": "markdown",
   "metadata": {},
   "source": [
    "## Check and install Dependencies"
   ]
  },
  {
   "cell_type": "code",
   "execution_count": null,
   "metadata": {},
   "outputs": [],
   "source": [
    "!pip install bs4"
   ]
  },
  {
   "cell_type": "markdown",
   "metadata": {},
   "source": [
    "## Import required libraries"
   ]
  },
  {
   "cell_type": "code",
   "execution_count": 2,
   "metadata": {},
   "outputs": [],
   "source": [
    "import requests\n",
    "from bs4 import BeautifulSoup"
   ]
  },
  {
   "cell_type": "markdown",
   "metadata": {},
   "source": [
    "## Creating function for easy use"
   ]
  },
  {
   "cell_type": "code",
   "execution_count": 27,
   "metadata": {},
   "outputs": [],
   "source": [
    "def tureng(word):\n",
    "    # Creating empty list for adding words\n",
    "    wordlist =[]\n",
    "    #Creating url with given word\n",
    "    url = 'http://chrome.tureng.com/Search?searchTerm='\n",
    "    full_url = url + word\n",
    "    #Parsing full_url over request amd Beautiful Soup\n",
    "    page = requests.get(full_url)\n",
    "    soup = BeautifulSoup(page.content, 'html.parser')\n",
    "    #All words locating in the a tag passing through control logic that ignores non-translate strings\n",
    "    for item in soup.findAll('a'):\n",
    "        if (item.get_text()!=\"\\nDaha Fazla Sonuç...\\n\") and (item.get_text()!=\"\\r\\n            tureng\"):\n",
    "            wordlist.append(str(item.get_text()))\n",
    "        # Clear wordlist items for word type identifiers and newline operator\n",
    "        wordlist = [word.replace('\\n','') for word in wordlist]\n",
    "        wordlist = [word.replace('s.','') for word in wordlist]\n",
    "        wordlist = [word.replace('i.','') for word in wordlist]\n",
    "        wordlist = [word.replace('f.','') for word in wordlist]\n",
    "        wordlist = [word.replace('zm.','') for word in wordlist]\n",
    "    #function returns a list type\n",
    "    return wordlist\n",
    "\n"
   ]
  },
  {
   "cell_type": "markdown",
   "metadata": {},
   "source": [
    "## Turkish to English Translate"
   ]
  },
  {
   "cell_type": "code",
   "execution_count": 35,
   "metadata": {},
   "outputs": [
    {
     "data": {
      "text/plain": [
       "['evolution', 'evolvement', 'evolution', 'evolution', 'evolution']"
      ]
     },
     "execution_count": 35,
     "metadata": {},
     "output_type": "execute_result"
    }
   ],
   "source": [
    "tureng(\"Evrim\")"
   ]
  },
  {
   "cell_type": "code",
   "execution_count": 38,
   "metadata": {},
   "outputs": [
    {
     "data": {
      "text/plain": [
       "['a mere flea',\n",
       " 'a drop in the bucket',\n",
       " 'chicken feed',\n",
       " 'a crumb',\n",
       " 'a drop in a bucket']"
      ]
     },
     "execution_count": 38,
     "metadata": {},
     "output_type": "execute_result"
    }
   ],
   "source": [
    "tureng(\"Devede kulak\")"
   ]
  },
  {
   "cell_type": "markdown",
   "metadata": {},
   "source": [
    "## English to Turkish Translate"
   ]
  },
  {
   "cell_type": "code",
   "execution_count": 37,
   "metadata": {},
   "outputs": [
    {
     "data": {
      "text/plain": [
       "['eski çamlar bardak oldu', 'köprünün altından çok sular geçti']"
      ]
     },
     "execution_count": 37,
     "metadata": {},
     "output_type": "execute_result"
    }
   ],
   "source": [
    "tureng(\"Water under the bridge\")"
   ]
  },
  {
   "cell_type": "code",
   "execution_count": 39,
   "metadata": {},
   "outputs": [
    {
     "data": {
      "text/plain": [
       "['ilim', 'bilim', 'beceri', 'maharet', 'bilgi']"
      ]
     },
     "execution_count": 39,
     "metadata": {},
     "output_type": "execute_result"
    }
   ],
   "source": [
    "tureng(\"Science\")"
   ]
  },
  {
   "cell_type": "markdown",
   "metadata": {},
   "source": [
    "## Passing Non-words"
   ]
  },
  {
   "cell_type": "markdown",
   "metadata": {},
   "source": [
    "Function returns empty list."
   ]
  },
  {
   "cell_type": "code",
   "execution_count": 58,
   "metadata": {},
   "outputs": [
    {
     "data": {
      "text/plain": [
       "[]"
      ]
     },
     "execution_count": 58,
     "metadata": {},
     "output_type": "execute_result"
    }
   ],
   "source": [
    "tureng(\"sd3 da\")"
   ]
  },
  {
   "cell_type": "code",
   "execution_count": 60,
   "metadata": {},
   "outputs": [
    {
     "data": {
      "text/plain": [
       "[]"
      ]
     },
     "execution_count": 60,
     "metadata": {},
     "output_type": "execute_result"
    }
   ],
   "source": [
    "tureng(\"123\")"
   ]
  },
  {
   "cell_type": "markdown",
   "metadata": {},
   "source": [
    "## Passing List Through Function"
   ]
  },
  {
   "cell_type": "code",
   "execution_count": 51,
   "metadata": {},
   "outputs": [],
   "source": [
    "listofwords = [\"kalem\", \"kitap\",\"dalgıç\",\"hedef\",\"beceri\"]"
   ]
  },
  {
   "cell_type": "code",
   "execution_count": 61,
   "metadata": {},
   "outputs": [],
   "source": [
    "translation ={} #Creating a dictionary"
   ]
  },
  {
   "cell_type": "code",
   "execution_count": 62,
   "metadata": {},
   "outputs": [],
   "source": [
    "for word in listofwords:\n",
    "    translation[word] = tureng(word)"
   ]
  },
  {
   "cell_type": "code",
   "execution_count": 63,
   "metadata": {},
   "outputs": [
    {
     "data": {
      "text/plain": [
       "{'kalem': ['pencil', 'pen', 'item', 'kind', 'style'],\n",
       " 'kitap': ['book', 'paper', 'work', 'opus', 'writing'],\n",
       " 'dalgıç': ['diver', 'plunger', 'plunge', 'frogman', 'underwater diver'],\n",
       " 'hedef': ['objective', 'target', 'aim', 'goal', 'destination'],\n",
       " 'beceri': ['ability', 'skill', 'sleight', 'adroitness', 'science']}"
      ]
     },
     "execution_count": 63,
     "metadata": {},
     "output_type": "execute_result"
    }
   ],
   "source": [
    "translation"
   ]
  },
  {
   "cell_type": "code",
   "execution_count": 64,
   "metadata": {},
   "outputs": [
    {
     "data": {
      "text/plain": [
       "['objective', 'target', 'aim', 'goal', 'destination']"
      ]
     },
     "execution_count": 64,
     "metadata": {},
     "output_type": "execute_result"
    }
   ],
   "source": [
    "translation[listofwords[3]] ## Translation of 4th element of list of words"
   ]
  },
  {
   "cell_type": "code",
   "execution_count": null,
   "metadata": {},
   "outputs": [],
   "source": []
  }
 ],
 "metadata": {
  "kernelspec": {
   "display_name": "Python",
   "language": "python",
   "name": "conda-env-python-py"
  },
  "language_info": {
   "codemirror_mode": {
    "name": "ipython",
    "version": 3
   },
   "file_extension": ".py",
   "mimetype": "text/x-python",
   "name": "python",
   "nbconvert_exporter": "python",
   "pygments_lexer": "ipython3",
   "version": "3.6.10"
  }
 },
 "nbformat": 4,
 "nbformat_minor": 4
}
